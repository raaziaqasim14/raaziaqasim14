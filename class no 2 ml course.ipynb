{
 "cells": [
  {
   "cell_type": "markdown",
   "metadata": {},
   "source": [
    "## CLASS NO. 2"
   ]
  },
  {
   "cell_type": "markdown",
   "metadata": {},
   "source": [
    "### 1. Basic syntax "
   ]
  },
  {
   "cell_type": "code",
   "execution_count": 1,
   "metadata": {},
   "outputs": [
    {
     "name": "stdout",
     "output_type": "stream",
     "text": [
      "india won asia cup 2023\n",
      "india won by 10 wickets\n"
     ]
    }
   ],
   "source": [
    "# printing something \n",
    "print(\"india won asia cup 2023\")\n",
    "print('india won by 10 wickets')"
   ]
  },
  {
   "cell_type": "markdown",
   "metadata": {},
   "source": [
    "### 2. Operators"
   ]
  },
  {
   "cell_type": "code",
   "execution_count": 2,
   "metadata": {},
   "outputs": [
    {
     "name": "stdout",
     "output_type": "stream",
     "text": [
      "5\n",
      "-1\n",
      "25\n",
      "2.3333333333333335\n",
      "1\n",
      "128\n",
      "10\n",
      "3\n"
     ]
    }
   ],
   "source": [
    "## arithematic operators \n",
    "print(2+3) #addition\n",
    "print(4-5)  #subtraction\n",
    "print(5*5) #multiplication \n",
    "print(7/3) #division\n",
    "print(33%2) #modulus\n",
    "print(2**7) #exponential\n",
    "print(9^3) #XOR operator \n",
    "print(9//3) #floor division\n"
   ]
  },
  {
   "cell_type": "code",
   "execution_count": 6,
   "metadata": {},
   "outputs": [],
   "source": [
    "## assignment operator \n",
    "b = 4\n",
    "b -= 3 #b = b-3\n",
    "\n",
    "a = 5 \n"
   ]
  },
  {
   "cell_type": "code",
   "execution_count": null,
   "metadata": {},
   "outputs": [
    {
     "data": {
      "text/plain": [
       "False"
      ]
     },
     "execution_count": 7,
     "metadata": {},
     "output_type": "execute_result"
    }
   ],
   "source": [
    "# comparison operator \n",
    "a == b #a is equal to b \n",
    "a != b # a is not equal to b \n",
    "a > b # a is greater than b \n",
    "a <= b # a is leass than or equal to b "
   ]
  },
  {
   "cell_type": "code",
   "execution_count": null,
   "metadata": {},
   "outputs": [],
   "source": [
    "## logical operator\n",
    "## AND OR NOT "
   ]
  },
  {
   "cell_type": "markdown",
   "metadata": {},
   "source": [
    "### 3. Data Types + Variable def"
   ]
  },
  {
   "cell_type": "code",
   "execution_count": 8,
   "metadata": {},
   "outputs": [
    {
     "name": "stdout",
     "output_type": "stream",
     "text": [
      "<class 'str'>\n"
     ]
    }
   ],
   "source": [
    "## string;\n",
    "s = 'cricket'\n",
    "\n",
    "# indexing: counting starts from 0 in python \n",
    " \n",
    "print(type(s)) # display tha data type of varaiable\n",
    "\n"
   ]
  },
  {
   "cell_type": "code",
   "execution_count": null,
   "metadata": {},
   "outputs": [],
   "source": [
    "## integer\n",
    "a = 5 # integer\n",
    "c = '5' #string\n",
    "d = 4.17 #float\n",
    "\n",
    "\n"
   ]
  },
  {
   "cell_type": "markdown",
   "metadata": {},
   "source": [
    "#### TASK 1 "
   ]
  },
  {
   "cell_type": "code",
   "execution_count": null,
   "metadata": {},
   "outputs": [],
   "source": [
    "## DATA TYPES\n",
    "1. string  #text type\n",
    "2. int, float, complex #numeric\n",
    "\n",
    "3. list \n",
    "e.g  \n",
    "x = [\"apple\", \"banana\", \"cherry\"] \n",
    "\n",
    "4. tuple\n",
    "e.g\n",
    "y = (\"apple\", \"banana\", \"cherry\")\n",
    "\n",
    "5. bool\n",
    "z = True\n",
    "z = False \n",
    "\n",
    "6. set \n",
    "e.g\n",
    "{\"apple\", \"banana\", \"cherry\"}\n"
   ]
  },
  {
   "cell_type": "markdown",
   "metadata": {},
   "source": [
    "### 4. Input functions"
   ]
  },
  {
   "cell_type": "code",
   "execution_count": 3,
   "metadata": {},
   "outputs": [
    {
     "name": "stdout",
     "output_type": "stream",
     "text": [
      "sirilanka scored 50 runs\n"
     ]
    }
   ],
   "source": [
    "sri_score = input(\"Sri_score:\")\n",
    "print('sirilanka scored', sri_score) #concatenation"
   ]
  },
  {
   "cell_type": "code",
   "execution_count": 6,
   "metadata": {},
   "outputs": [
    {
     "name": "stdout",
     "output_type": "stream",
     "text": [
      "Your latest score is: 35\n"
     ]
    }
   ],
   "source": [
    "# initial score , 5 grace , print updated score\n",
    "\n",
    "##score to btao\n",
    "\n",
    "score = int(input(\"Score:\")) #type conversion: string to integer\n",
    "updated_score = score + 5\n",
    "print(\"Your latest score is:\", updated_score)"
   ]
  },
  {
   "cell_type": "markdown",
   "metadata": {},
   "source": [
    "#### TASK 2"
   ]
  },
  {
   "cell_type": "code",
   "execution_count": 9,
   "metadata": {},
   "outputs": [
    {
     "name": "stdout",
     "output_type": "stream",
     "text": [
      "no tax as age is: 15\n"
     ]
    }
   ],
   "source": [
    "## tax wrt age\n",
    "age = int(input('Age:'))\n",
    "print('no tax as age is:', age) #no tax if age >18 "
   ]
  },
  {
   "cell_type": "code",
   "execution_count": 12,
   "metadata": {},
   "outputs": [
    {
     "name": "stdout",
     "output_type": "stream",
     "text": [
      "tax is 1.2 %: 25\n"
     ]
    }
   ],
   "source": [
    "## tax wrt age\n",
    "age = int(input('Age:'))\n",
    "print('tax is 1.2 %:', age) #tax is 1.2 % if age is 18 -30"
   ]
  },
  {
   "cell_type": "code",
   "execution_count": 13,
   "metadata": {},
   "outputs": [
    {
     "name": "stdout",
     "output_type": "stream",
     "text": [
      "tax is 2% if age is 40\n"
     ]
    }
   ],
   "source": [
    "## tax wrt age\n",
    "age = int(input('Age:'))\n",
    "print('tax is 2% if age is', age)"
   ]
  },
  {
   "cell_type": "code",
   "execution_count": 14,
   "metadata": {},
   "outputs": [
    {
     "name": "stdout",
     "output_type": "stream",
     "text": [
      "no tax as age is: 55\n"
     ]
    }
   ],
   "source": [
    "## tax wrt age\n",
    "age = int(input('Age:'))\n",
    "print('no tax as age is:', age) #no tax if age <50"
   ]
  },
  {
   "cell_type": "markdown",
   "metadata": {},
   "source": [
    "#### TASK 3 "
   ]
  },
  {
   "cell_type": "code",
   "execution_count": 15,
   "metadata": {},
   "outputs": [
    {
     "name": "stdout",
     "output_type": "stream",
     "text": [
      "22.17\n",
      "<class 'float'>\n"
     ]
    }
   ],
   "source": [
    "## converting string to float \n",
    "\n",
    "string = \"22.17\"\n",
    "  \n",
    "# using float method to convert string to float\n",
    "num = float(string)\n",
    "  \n",
    "print(num)\n",
    "print(type(num))"
   ]
  },
  {
   "cell_type": "markdown",
   "metadata": {},
   "source": [
    "### 5. if else elif"
   ]
  },
  {
   "cell_type": "code",
   "execution_count": 16,
   "metadata": {},
   "outputs": [
    {
     "name": "stdout",
     "output_type": "stream",
     "text": [
      "66 is even.\n"
     ]
    }
   ],
   "source": [
    "# if else\n",
    "\n",
    "## even or odd number\n",
    "num = int(input(\"Enter a Number: \"))  # input function to take user's input and convert it into integer.\n",
    "if num %2 == 0:\n",
    "    #print(\"Even Number\")\n",
    "    print(num, \"is even.\")\n",
    "else:\n",
    "    #print(\"Odd Number\")\n",
    "    print(num, \"is odd.\")"
   ]
  },
  {
   "cell_type": "code",
   "execution_count": 17,
   "metadata": {},
   "outputs": [
    {
     "name": "stdout",
     "output_type": "stream",
     "text": [
      "Number is not integer\n"
     ]
    }
   ],
   "source": [
    "# if elif else\n",
    "\n",
    "num = float(input(\"Enter a Number: \"))  # input function to take user's input and convert it into integer.\n",
    "if num %2 == 0:\n",
    "    #print(\"Even Number\")\n",
    "    print(num, \"is even.\")\n",
    "elif num %2 == 1:\n",
    "    #print(\"Odd Number\")\n",
    "    print(num, \"is odd.\")\n",
    "else:\n",
    "    print(\"Number is not integer\")"
   ]
  },
  {
   "cell_type": "markdown",
   "metadata": {},
   "source": [
    "### 6. Functions"
   ]
  },
  {
   "cell_type": "code",
   "execution_count": 18,
   "metadata": {},
   "outputs": [],
   "source": [
    "# area of the rectangle\n",
    "\n",
    "def area(length, width):\n",
    "    area = length*width\n",
    "    print(\"area of the rectangle is:\", area)"
   ]
  },
  {
   "cell_type": "code",
   "execution_count": 19,
   "metadata": {},
   "outputs": [
    {
     "name": "stdout",
     "output_type": "stream",
     "text": [
      "area of the rectangle is: 20\n"
     ]
    }
   ],
   "source": [
    "area(4,5)"
   ]
  },
  {
   "cell_type": "markdown",
   "metadata": {},
   "source": [
    "### 7. Loops"
   ]
  },
  {
   "cell_type": "code",
   "execution_count": 25,
   "metadata": {},
   "outputs": [
    {
     "name": "stdout",
     "output_type": "stream",
     "text": [
      "biryani\n",
      "karahi\n",
      "naan\n",
      "dahi bhalay\n"
     ]
    }
   ],
   "source": [
    "## for loop\n",
    "food = ['biryani','karahi','naan','dahi bhalay'] #khanay ki list\n",
    "for x in food:\n",
    " print(x) #local varibale\n",
    "#print(x) #global varibale"
   ]
  },
  {
   "cell_type": "code",
   "execution_count": 22,
   "metadata": {},
   "outputs": [
    {
     "name": "stdout",
     "output_type": "stream",
     "text": [
      "1\n",
      "2\n",
      "3\n"
     ]
    }
   ],
   "source": [
    "## while loop\n",
    "\n",
    "i = 1\n",
    "while i < 5:\n",
    "    print(i)\n",
    "    if i == 3:\n",
    "        break\n",
    "    i +=1"
   ]
  },
  {
   "cell_type": "code",
   "execution_count": 24,
   "metadata": {},
   "outputs": [
    {
     "name": "stdout",
     "output_type": "stream",
     "text": [
      "biryani\n",
      "karahi\n",
      "naan\n"
     ]
    }
   ],
   "source": [
    "food = ['biryani','karahi','naan','dahi bhalay'] #khanay ki list\n",
    "for i in food:\n",
    "    print(i)\n",
    "    if i == 'naan':\n",
    "        break"
   ]
  },
  {
   "cell_type": "code",
   "execution_count": null,
   "metadata": {},
   "outputs": [],
   "source": []
  }
 ],
 "metadata": {
  "kernelspec": {
   "display_name": "Python 3",
   "language": "python",
   "name": "python3"
  },
  "language_info": {
   "codemirror_mode": {
    "name": "ipython",
    "version": 3
   },
   "file_extension": ".py",
   "mimetype": "text/x-python",
   "name": "python",
   "nbconvert_exporter": "python",
   "pygments_lexer": "ipython3",
   "version": "3.11.4"
  },
  "orig_nbformat": 4
 },
 "nbformat": 4,
 "nbformat_minor": 2
}
