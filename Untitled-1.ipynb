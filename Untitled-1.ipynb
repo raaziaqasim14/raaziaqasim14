{
 "cells": [
  {
   "cell_type": "markdown",
   "metadata": {},
   "source": [
    "# Generating code for rock paper scissors"
   ]
  },
  {
   "cell_type": "code",
   "execution_count": 9,
   "metadata": {},
   "outputs": [
    {
     "name": "stdout",
     "output_type": "stream",
     "text": [
      "you win!\n"
     ]
    }
   ],
   "source": [
    "import random \n",
    "c_moves = [\"rock\", \"paper\", \"scissor\"]\n",
    "computer = c_moves[random.randint(0,2)]\n",
    "player = False\n",
    "player = input(\"your move: \")\n",
    "if computer == player:\n",
    "    print(\"its a tie!\")\n",
    "elif player == \"rock\":\n",
    "    if computer == \"paper\":\n",
    "        print(\"you lose, computer wins!\")\n",
    "    else:\n",
    "        print(\"you win!\")\n",
    "elif player == \"paper\":\n",
    "    if computer == \"scissor\":\n",
    "        print(\"you lose, computer wins!\")\n",
    "    else:\n",
    "        print(\"you win!\")\n",
    "elif player == \"scissor\":\n",
    "    if computer == \"rock\":\n",
    "        print(\"you lose, computer wins!\")\n",
    "    else:\n",
    "        print(\"you win!\")\n",
    "new_game = input(\"do you want to play another round? (y/n)\")\n",
    "if new_game =='y':\n",
    "    player = False\n",
    "else:\n",
    "    print(\"game ends!\")\n"
   ]
  }
 ],
 "metadata": {
  "kernelspec": {
   "display_name": "Python 3",
   "language": "python",
   "name": "python3"
  },
  "language_info": {
   "codemirror_mode": {
    "name": "ipython",
    "version": 3
   },
   "file_extension": ".py",
   "mimetype": "text/x-python",
   "name": "python",
   "nbconvert_exporter": "python",
   "pygments_lexer": "ipython3",
   "version": "3.11.4"
  },
  "orig_nbformat": 4
 },
 "nbformat": 4,
 "nbformat_minor": 2
}
